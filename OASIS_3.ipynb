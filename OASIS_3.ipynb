{
  "nbformat": 4,
  "nbformat_minor": 0,
  "metadata": {
    "colab": {
      "provenance": []
    },
    "kernelspec": {
      "name": "python3",
      "display_name": "Python 3"
    },
    "language_info": {
      "name": "python"
    }
  },
  "cells": [
    {
      "cell_type": "code",
      "execution_count": 4,
      "metadata": {
        "id": "OvnnmyjTdFnl"
      },
      "outputs": [],
      "source": [
        "import pandas as pd\n",
        "import numpy as np\n",
        "import re\n",
        "import nltk\n",
        "import torch\n",
        "import torch.nn as nn\n",
        "import torch.optim as optim\n",
        "from torch.utils.data import DataLoader, TensorDataset\n",
        "from sklearn.model_selection import train_test_split\n",
        "from sklearn.preprocessing import LabelEncoder\n",
        "from sklearn.metrics import accuracy_score, classification_report\n",
        "from tensorflow.keras.preprocessing.text import Tokenizer\n",
        "from tensorflow.keras.preprocessing.sequence import pad_sequences"
      ]
    },
    {
      "cell_type": "code",
      "source": [
        "train_data = pd.read_csv(\"twitter_training.csv\")\n",
        "val_data = pd.read_csv(\"twitter_validation.csv\")"
      ],
      "metadata": {
        "id": "1IKVVumlfz_B"
      },
      "execution_count": 7,
      "outputs": []
    },
    {
      "cell_type": "code",
      "source": [
        "train_data.columns = ['ID', 'Category', 'Sentiment', 'Tweet']\n",
        "val_data.columns = ['ID', 'Category', 'Sentiment', 'Tweet']"
      ],
      "metadata": {
        "id": "KeVs4GbZeD95"
      },
      "execution_count": 8,
      "outputs": []
    },
    {
      "cell_type": "code",
      "source": [
        "train_data.dropna(subset=['Tweet'], inplace=True)\n",
        "val_data.dropna(subset=['Tweet'], inplace=True)"
      ],
      "metadata": {
        "id": "6D617BBhe9jO"
      },
      "execution_count": 9,
      "outputs": []
    },
    {
      "cell_type": "code",
      "source": [
        "nltk.download('stopwords')\n",
        "stop_words = set(nltk.corpus.stopwords.words('english'))"
      ],
      "metadata": {
        "colab": {
          "base_uri": "https://localhost:8080/"
        },
        "id": "wmj4mWqyfEMB",
        "outputId": "e8175545-5f05-4c64-bfb4-6c68d17f3538"
      },
      "execution_count": 10,
      "outputs": [
        {
          "output_type": "stream",
          "name": "stderr",
          "text": [
            "[nltk_data] Downloading package stopwords to /root/nltk_data...\n",
            "[nltk_data]   Unzipping corpora/stopwords.zip.\n"
          ]
        }
      ]
    },
    {
      "cell_type": "code",
      "source": [
        "def preprocess_text(text):\n",
        "    text = text.lower()\n",
        "    text = re.sub(r'http\\S+', '', text)\n",
        "    text = re.sub(r'@\\w+', '', text)\n",
        "    text = re.sub(r'#\\w+', '', text)\n",
        "    text = re.sub(r'[^\\w\\s]', '', text)\n",
        "    text = \" \".join([word for word in text.split() if word not in stop_words])\n",
        "    return text"
      ],
      "metadata": {
        "id": "5XAPNcHVfNXL"
      },
      "execution_count": 11,
      "outputs": []
    },
    {
      "cell_type": "code",
      "source": [
        "train_data['cleaned_text'] = train_data['Tweet'].apply(preprocess_text)\n",
        "val_data['cleaned_text'] = val_data['Tweet'].apply(preprocess_text)"
      ],
      "metadata": {
        "id": "FDfZJ7DFfP77"
      },
      "execution_count": 12,
      "outputs": []
    },
    {
      "cell_type": "code",
      "source": [
        "label_encoder = LabelEncoder()\n",
        "y_train = label_encoder.fit_transform(train_data['Sentiment'])\n",
        "y_val = label_encoder.transform(val_data['Sentiment'])\n",
        "tokenizer = Tokenizer(num_words=5000, oov_token=\"<OOV>\")\n",
        "tokenizer.fit_on_texts(train_data['cleaned_text'])\n",
        "\n",
        "X_train = tokenizer.texts_to_sequences(train_data['cleaned_text'])\n",
        "X_val = tokenizer.texts_to_sequences(val_data['cleaned_text'])\n",
        "max_length = 50\n",
        "X_train = pad_sequences(X_train, maxlen=max_length, padding='post')\n",
        "X_val = pad_sequences(X_val, maxlen=max_length, padding='post')"
      ],
      "metadata": {
        "id": "wF2SuCORffMb"
      },
      "execution_count": 13,
      "outputs": []
    },
    {
      "cell_type": "code",
      "source": [
        "batch_size = 64\n",
        "\n",
        "train_dataset = TensorDataset(torch.tensor(X_train, dtype=torch.long), torch.tensor(y_train, dtype=torch.long))\n",
        "val_dataset = TensorDataset(torch.tensor(X_val, dtype=torch.long), torch.tensor(y_val, dtype=torch.long))\n",
        "\n",
        "train_loader = DataLoader(train_dataset, batch_size=batch_size, shuffle=True)\n",
        "val_loader = DataLoader(val_dataset, batch_size=batch_size, shuffle=False)"
      ],
      "metadata": {
        "id": "TXYul8KPhCTI"
      },
      "execution_count": 14,
      "outputs": []
    },
    {
      "cell_type": "code",
      "source": [
        "class SentimentLSTM(nn.Module):\n",
        "    def __init__(self, vocab_size, embedding_dim, hidden_dim, output_dim):\n",
        "        super(SentimentLSTM, self).__init__()\n",
        "        self.embedding = nn.Embedding(vocab_size, embedding_dim)\n",
        "        self.lstm = nn.LSTM(embedding_dim, hidden_dim, num_layers=2, batch_first=True, dropout=0.5)\n",
        "        self.fc = nn.Linear(hidden_dim, output_dim)\n",
        "        self.dropout = nn.Dropout(0.3)\n",
        "\n",
        "    def forward(self, x):\n",
        "        x = self.embedding(x)\n",
        "        x, _ = self.lstm(x)\n",
        "        x = self.dropout(x[:, -1, :])\n",
        "        x = self.fc(x)\n",
        "        return x"
      ],
      "metadata": {
        "id": "evcPPM3PhG9b"
      },
      "execution_count": 15,
      "outputs": []
    },
    {
      "cell_type": "code",
      "source": [
        "vocab_size = 5000\n",
        "embedding_dim = 128\n",
        "hidden_dim = 256\n",
        "output_dim = len(label_encoder.classes_)\n",
        "model = SentimentLSTM(vocab_size, embedding_dim, hidden_dim, output_dim)\n",
        "criterion = nn.CrossEntropyLoss()\n",
        "optimizer = optim.Adam(model.parameters(), lr=0.001)\n",
        "epochs = 3\n",
        "device = torch.device(\"cuda\" if torch.cuda.is_available() else \"cpu\")\n",
        "model = model.to(device)"
      ],
      "metadata": {
        "id": "S4RbQVwthJTJ"
      },
      "execution_count": 16,
      "outputs": []
    },
    {
      "cell_type": "code",
      "source": [
        "for epoch in range(epochs):\n",
        "    model.train()\n",
        "    train_loss = 0\n",
        "\n",
        "    for batch_idx, (inputs, labels) in enumerate(train_loader):\n",
        "        inputs, labels = inputs.to(device), labels.to(device)\n",
        "\n",
        "        optimizer.zero_grad()\n",
        "        outputs = model(inputs)\n",
        "        loss = criterion(outputs, labels)\n",
        "\n",
        "        loss.backward()\n",
        "        optimizer.step()\n",
        "\n",
        "        train_loss += loss.item()\n",
        "\n",
        "        if batch_idx % 100 == 0:\n",
        "            print(f\"Epoch [{epoch+1}/{epochs}], Batch [{batch_idx}/{len(train_loader)}], Loss: {loss.item():.4f}\")\n",
        "\n",
        "    model.eval()\n",
        "    val_preds, val_labels = [], []\n",
        "    with torch.no_grad():\n",
        "        for inputs, labels in val_loader:\n",
        "            inputs, labels = inputs.to(device), labels.to(device)\n",
        "            outputs = model(inputs)\n",
        "            _, predicted = torch.max(outputs, 1)\n",
        "            val_preds.extend(predicted.cpu().numpy())\n",
        "            val_labels.extend(labels.cpu().numpy())\n",
        "\n",
        "    val_accuracy = accuracy_score(val_labels, val_preds)\n",
        "    print(f\"Epoch {epoch + 1}/{epochs} | Train Loss: {train_loss / len(train_loader):.4f} | Validation Accuracy: {val_accuracy:.4f}\")\n",
        "\n",
        "\n",
        "print(\"Accuracy Score:\", val_accuracy)\n",
        "print(\"Classification Report:\\n\", classification_report(val_labels, val_preds, target_names=label_encoder.classes_))"
      ],
      "metadata": {
        "colab": {
          "base_uri": "https://localhost:8080/"
        },
        "id": "HmR_BbxchOot",
        "outputId": "4d599bfa-c17f-4c99-ba24-b00debd73b25"
      },
      "execution_count": 17,
      "outputs": [
        {
          "output_type": "stream",
          "name": "stdout",
          "text": [
            "Epoch [1/3], Batch [0/1157], Loss: 1.3779\n",
            "Epoch [1/3], Batch [100/1157], Loss: 1.3815\n",
            "Epoch [1/3], Batch [200/1157], Loss: 1.3324\n",
            "Epoch [1/3], Batch [300/1157], Loss: 1.3948\n",
            "Epoch [1/3], Batch [400/1157], Loss: 1.3641\n",
            "Epoch [1/3], Batch [500/1157], Loss: 1.3457\n",
            "Epoch [1/3], Batch [600/1157], Loss: 1.3954\n",
            "Epoch [1/3], Batch [700/1157], Loss: 1.3714\n",
            "Epoch [1/3], Batch [800/1157], Loss: 1.3674\n",
            "Epoch [1/3], Batch [900/1157], Loss: 1.3537\n",
            "Epoch [1/3], Batch [1000/1157], Loss: 1.3270\n",
            "Epoch [1/3], Batch [1100/1157], Loss: 1.3747\n",
            "Epoch 1/3 | Train Loss: 1.3679 | Validation Accuracy: 0.2663\n",
            "Epoch [2/3], Batch [0/1157], Loss: 1.3635\n",
            "Epoch [2/3], Batch [100/1157], Loss: 1.3733\n",
            "Epoch [2/3], Batch [200/1157], Loss: 1.3824\n",
            "Epoch [2/3], Batch [300/1157], Loss: 1.3753\n",
            "Epoch [2/3], Batch [400/1157], Loss: 1.3450\n",
            "Epoch [2/3], Batch [500/1157], Loss: 1.4164\n",
            "Epoch [2/3], Batch [600/1157], Loss: 1.3961\n",
            "Epoch [2/3], Batch [700/1157], Loss: 1.3522\n",
            "Epoch [2/3], Batch [800/1157], Loss: 1.3454\n",
            "Epoch [2/3], Batch [900/1157], Loss: 1.3214\n",
            "Epoch [2/3], Batch [1000/1157], Loss: 1.3735\n",
            "Epoch [2/3], Batch [1100/1157], Loss: 1.4087\n",
            "Epoch 2/3 | Train Loss: 1.3673 | Validation Accuracy: 0.2663\n",
            "Epoch [3/3], Batch [0/1157], Loss: 1.3816\n",
            "Epoch [3/3], Batch [100/1157], Loss: 1.3532\n",
            "Epoch [3/3], Batch [200/1157], Loss: 1.3327\n",
            "Epoch [3/3], Batch [300/1157], Loss: 1.3864\n",
            "Epoch [3/3], Batch [400/1157], Loss: 1.3424\n",
            "Epoch [3/3], Batch [500/1157], Loss: 1.3731\n",
            "Epoch [3/3], Batch [600/1157], Loss: 1.4016\n",
            "Epoch [3/3], Batch [700/1157], Loss: 1.3265\n",
            "Epoch [3/3], Batch [800/1157], Loss: 1.3541\n",
            "Epoch [3/3], Batch [900/1157], Loss: 1.3426\n",
            "Epoch [3/3], Batch [1000/1157], Loss: 1.3954\n",
            "Epoch [3/3], Batch [1100/1157], Loss: 1.3595\n",
            "Epoch 3/3 | Train Loss: 1.3670 | Validation Accuracy: 0.2663\n",
            "Accuracy Score: 0.26626626626626626\n",
            "Classification Report:\n",
            "               precision    recall  f1-score   support\n",
            "\n",
            "  Irrelevant       0.00      0.00      0.00       171\n",
            "    Negative       0.27      1.00      0.42       266\n",
            "     Neutral       0.00      0.00      0.00       285\n",
            "    Positive       0.00      0.00      0.00       277\n",
            "\n",
            "    accuracy                           0.27       999\n",
            "   macro avg       0.07      0.25      0.11       999\n",
            "weighted avg       0.07      0.27      0.11       999\n",
            "\n"
          ]
        },
        {
          "output_type": "stream",
          "name": "stderr",
          "text": [
            "/usr/local/lib/python3.10/dist-packages/sklearn/metrics/_classification.py:1531: UndefinedMetricWarning: Precision is ill-defined and being set to 0.0 in labels with no predicted samples. Use `zero_division` parameter to control this behavior.\n",
            "  _warn_prf(average, modifier, f\"{metric.capitalize()} is\", len(result))\n",
            "/usr/local/lib/python3.10/dist-packages/sklearn/metrics/_classification.py:1531: UndefinedMetricWarning: Precision is ill-defined and being set to 0.0 in labels with no predicted samples. Use `zero_division` parameter to control this behavior.\n",
            "  _warn_prf(average, modifier, f\"{metric.capitalize()} is\", len(result))\n",
            "/usr/local/lib/python3.10/dist-packages/sklearn/metrics/_classification.py:1531: UndefinedMetricWarning: Precision is ill-defined and being set to 0.0 in labels with no predicted samples. Use `zero_division` parameter to control this behavior.\n",
            "  _warn_prf(average, modifier, f\"{metric.capitalize()} is\", len(result))\n"
          ]
        }
      ]
    },
    {
      "cell_type": "code",
      "source": [],
      "metadata": {
        "id": "sf1_0ZhIhTBC"
      },
      "execution_count": null,
      "outputs": []
    }
  ]
}